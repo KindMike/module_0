{
 "cells": [
  {
   "cell_type": "code",
   "execution_count": 28,
   "metadata": {},
   "outputs": [
    {
     "name": "stdout",
     "output_type": "stream",
     "text": [
      "Вы отгадали число 59 за 6\n"
     ]
    }
   ],
   "source": [
    "import numpy as np\n",
    "number = np.random.randint(1,101)   # загадали число\n",
    "search_range=set(range(1,101))      # обозначаем дипазон поиска\n",
    "def Binar_search(lys, val):         # применяем двойной поиск соответсвия в заданном диапозоне\n",
    "    first = 0\n",
    "    last = len(lys)-1\n",
    "    count=0\n",
    "    while True:\n",
    "        count+=1\n",
    "        predict=round((first+last)//2)\n",
    "        if  predict==number:\n",
    "            break\n",
    "        else:\n",
    "            if number<predict:\n",
    "                last = predict -1\n",
    "            else:\n",
    "                first = predict +1\n",
    "    return count\n",
    "count=BinarySearch(search_range, number)\n",
    "print(f'Вы отгадали число {number} за {count}')\n",
    "       "
   ]
  },
  {
   "cell_type": "code",
   "execution_count": null,
   "metadata": {},
   "outputs": [],
   "source": []
  },
  {
   "cell_type": "code",
   "execution_count": null,
   "metadata": {},
   "outputs": [],
   "source": []
  },
  {
   "cell_type": "code",
   "execution_count": null,
   "metadata": {},
   "outputs": [],
   "source": []
  }
 ],
 "metadata": {
  "kernelspec": {
   "display_name": "Python 3",
   "language": "python",
   "name": "python3"
  }
 },
 "nbformat": 4,
 "nbformat_minor": 4
}
